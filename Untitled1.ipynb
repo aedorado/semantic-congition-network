{
 "cells": [
  {
   "cell_type": "code",
   "execution_count": 2,
   "metadata": {},
   "outputs": [],
   "source": [
    "import numpy as np\n",
    "from scipy.signal import hilbert, chirp\n",
    "import matplotlib.pyplot as plt\n",
    "%matplotlib inline"
   ]
  },
  {
   "cell_type": "code",
   "execution_count": 93,
   "metadata": {},
   "outputs": [],
   "source": [
    "no_voxels_considered =15"
   ]
  },
  {
   "cell_type": "code",
   "execution_count": 10,
   "metadata": {},
   "outputs": [],
   "source": [
    "data = np.load(\"text_emt_alpha/sad/s06.mat-slorTransposed.npy\")"
   ]
  },
  {
   "cell_type": "code",
   "execution_count": 66,
   "metadata": {},
   "outputs": [],
   "source": [
    "def read_TG(filename):\n",
    "    Mtg =  np.loadtxt(open(filename))\n",
    "    Mtg_index = Mtg.astype('int32')\n",
    "    M_data =[]\n",
    "    for i in Mtg_index:\n",
    "        M_data.append(data[i])\n",
    "    Mx_data = np.asarray(M_data)\n",
    "    return Mx_data"
   ]
  },
  {
   "cell_type": "code",
   "execution_count": 67,
   "metadata": {},
   "outputs": [],
   "source": [
    "MTG = read_TG(\"MTG.csv\")\n",
    "AngG= read_TG(\"AngG.csv\")"
   ]
  },
  {
   "cell_type": "code",
   "execution_count": 111,
   "metadata": {},
   "outputs": [],
   "source": [
    "def tran(x,y):\n",
    "    import pdb\n",
    "    pdb.set_trace()\n",
    "    x_new = hilbert(x)\n",
    "    angle_x = np.angle(x_new)\n",
    "    ang_x = angle_x\n",
    "    y_new = hilbert(y)\n",
    "    angle_y = np.unwrap(np.angle(y_new))\n",
    "    ang_y = angle_y\n",
    "    ang_diff =abs(ang_x - ang_y)\n",
    "    j = np.exp(1j*ang_diff)\n",
    "    plv=[]\n",
    "    for qq in j:\n",
    "        plv.append(abs(np.mean(qq)))\n",
    "    plv = np.asarray(plv)\n",
    "    return plv"
   ]
  },
  {
   "cell_type": "code",
   "execution_count": null,
   "metadata": {},
   "outputs": [
    {
     "name": "stdout",
     "output_type": "stream",
     "text": [
      "> <ipython-input-111-c92e3793378a>(4)tran()\n",
      "-> x_new = hilbert(x)\n",
      "(Pdb) print(x)\n",
      "[[  21.59623     11.46668      8.079473  ...,    0.9032593    1.985396\n",
      "     5.474968 ]\n",
      " [  24.38532     38.75349     69.3387    ...,    7.681447    16.85343\n",
      "    22.43944  ]\n",
      " [ 188.4471     158.7497      89.50283   ...,    5.305396    26.66005\n",
      "    50.17805  ]\n",
      " ..., \n",
      " [  30.03211     37.35412     69.2782    ...,    6.863703    12.86081\n",
      "    16.43268  ]\n",
      " [  41.98084     27.80459     16.57247   ...,    1.688106     1.814758\n",
      "     4.629704 ]\n",
      " [  39.63444     19.01884     44.99744   ...,    5.18741      3.243025\n",
      "     1.472013 ]]\n",
      "(Pdb) x.shape\n",
      "(15, 7681)\n",
      "(Pdb) y.shape\n",
      "(15, 7681)\n"
     ]
    }
   ],
   "source": [
    "k = tran(MTG,AngG)\n",
    "print(k)\n",
    "k.shape"
   ]
  },
  {
   "cell_type": "code",
   "execution_count": 108,
   "metadata": {},
   "outputs": [
    {
     "name": "stdout",
     "output_type": "stream",
     "text": [
      "0\n"
     ]
    }
   ],
   "source": [
    "final =np.sum( np.exp(-np.sum(k))<0.01)/no_voxels_considered\n",
    "print(final)"
   ]
  },
  {
   "cell_type": "code",
   "execution_count": 109,
   "metadata": {},
   "outputs": [],
   "source": [
    "def calculate(file1,file2):\n",
    "    read1 = read_TG(file1)\n",
    "    read2 = read_TG(file2)\n",
    "    k = tran(read1,read2)\n",
    "    final =np.sum( np.exp(-np.sum(k)) < 0.01)/no_voxels_considered\n",
    "    return final"
   ]
  },
  {
   "cell_type": "code",
   "execution_count": 110,
   "metadata": {},
   "outputs": [
    {
     "name": "stdout",
     "output_type": "stream",
     "text": [
      "0\n",
      "0\n",
      "0\n",
      "0\n",
      "0\n",
      "0\n"
     ]
    }
   ],
   "source": [
    "print(calculate(\"MTG.csv\",\"InfFG.csv\"))\n",
    "print(calculate(\"MTG.csv\",\"MedFG.csv\"))\n",
    "print(calculate(\"MTG.csv\",\"MidFG.csv\"))\n",
    "print(calculate(\"MTG.csv\",\"PosC.csv\"))\n",
    "print(calculate(\"MTG.csv\",\"SupG.csv\"))\n",
    "print(calculate(\"MTG.csv\",\"AngG.csv\"))"
   ]
  },
  {
   "cell_type": "code",
   "execution_count": null,
   "metadata": {},
   "outputs": [],
   "source": [
    "def fun(sample):\n",
    "    data = np.load(sample)\n",
    "    s = [] #strength\n",
    "    s.append(calculate(\"MTG.csv\",\"InfFG.csv\"))\n",
    "    s.append(calculate(\"MTG.csv\",\"MedFG.csv\"))\n",
    "    s.append(calculate(\"MTG.csv\",\"MidFG.csv\"))\n",
    "    s.append(calculate(\"MTG.csv\",\"PosC.csv\"))\n",
    "    s.append(calculate(\"MTG.csv\",\"SupG.csv\"))\n",
    "    s.append(calculate(\"MTG.csv\",\"AngG.csv\"))\n",
    "    s= np.asarray(s)\n",
    "    print(s)\n",
    "    \n",
    "    \n",
    "    "
   ]
  }
 ],
 "metadata": {
  "kernelspec": {
   "display_name": "Python 2",
   "language": "python",
   "name": "python2"
  },
  "language_info": {
   "codemirror_mode": {
    "name": "ipython",
    "version": 2
   },
   "file_extension": ".py",
   "mimetype": "text/x-python",
   "name": "python",
   "nbconvert_exporter": "python",
   "pygments_lexer": "ipython2",
   "version": "2.7.6"
  }
 },
 "nbformat": 4,
 "nbformat_minor": 2
}
